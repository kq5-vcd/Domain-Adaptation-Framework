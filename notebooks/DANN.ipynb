{
 "cells": [
  {
   "cell_type": "markdown",
   "id": "0fc4843b-d036-4f01-8398-40c8ea7901bc",
   "metadata": {},
   "source": [
    "# Setup"
   ]
  },
  {
   "cell_type": "code",
   "execution_count": 1,
   "id": "5cfd4df2-75dd-47b9-8e06-16e8110eb5f7",
   "metadata": {},
   "outputs": [],
   "source": [
    "import torch\n",
    "import torch.nn as nn\n",
    "import torch.optim as optim\n",
    "from torch.autograd import Function\n",
    "from torchvision.datasets import MNIST\n",
    "from torch.utils.data import DataLoader\n",
    "from torchvision.transforms import Resize, ToTensor, Normalize, Compose\n",
    "\n",
    "\n",
    "import pandas as pd\n",
    "import numpy as np\n",
    "from tqdm import tqdm\n",
    "\n",
    "import matplotlib.pyplot as plt\n",
    "\n",
    "import os\n",
    "import warnings\n",
    "import random\n",
    "import gc\n",
    "gc.enable()"
   ]
  },
  {
   "cell_type": "code",
   "execution_count": 2,
   "id": "98b6730e-5572-47ea-8f58-c307837fe416",
   "metadata": {},
   "outputs": [
    {
     "data": {
      "text/plain": [
       "'C:\\\\Users\\\\Admin\\\\Desktop\\\\Deep Learning\\\\Domain-Adaptation-Framework'"
      ]
     },
     "execution_count": 2,
     "metadata": {},
     "output_type": "execute_result"
    }
   ],
   "source": [
    "if os.getcwd().split('\\\\')[-1] == 'notebooks':\n",
    "    os.chdir('../')\n",
    "os.getcwd()"
   ]
  },
  {
   "cell_type": "code",
   "execution_count": 3,
   "id": "2a2d8906",
   "metadata": {},
   "outputs": [],
   "source": [
    "from src.Models.CNN.base_cnn import CNN\n",
    "from src.Models.Classifiers.base_classifier import Classifier\n",
    "from src.Dataset.MNISTM import MNISTM\n",
    "from src.Tools.model_utils import calculate_model_output_size"
   ]
  },
  {
   "cell_type": "code",
   "execution_count": 4,
   "id": "4aa9d62a-194e-4642-8ec5-1db55dd55493",
   "metadata": {},
   "outputs": [],
   "source": [
    "device = 'cpu'\n",
    "seed = 42"
   ]
  },
  {
   "cell_type": "code",
   "execution_count": 5,
   "id": "b0f853ca-c549-4782-88d3-3e959a26e3f4",
   "metadata": {},
   "outputs": [
    {
     "data": {
      "text/plain": [
       "'cpu'"
      ]
     },
     "execution_count": 5,
     "metadata": {},
     "output_type": "execute_result"
    }
   ],
   "source": [
    "if torch.cuda.is_available():\n",
    "    device = 'cuda'\n",
    "    torch.cuda.manual_seed(seed)\n",
    "\n",
    "    torch.backends.cudnn.benchmark = True\n",
    "    torch.backends.cudnn.enabled = True\n",
    "\n",
    "device"
   ]
  },
  {
   "cell_type": "code",
   "execution_count": 6,
   "id": "0cf3e465-c177-42ac-b7ee-e9441b1cc10d",
   "metadata": {},
   "outputs": [
    {
     "data": {
      "text/plain": [
       "<torch._C.Generator at 0x1dd4c305630>"
      ]
     },
     "execution_count": 6,
     "metadata": {},
     "output_type": "execute_result"
    }
   ],
   "source": [
    "random.seed(seed)\n",
    "np.random.seed(seed)\n",
    "torch.manual_seed(seed)"
   ]
  },
  {
   "cell_type": "markdown",
   "id": "54ee04ea-84d6-47ee-8fba-8d0578499b44",
   "metadata": {},
   "source": [
    "# Datasets"
   ]
  },
  {
   "cell_type": "code",
   "execution_count": 7,
   "id": "f2d1f07e-a551-46ac-a716-33c9daf648eb",
   "metadata": {},
   "outputs": [],
   "source": [
    "batch_size = 128\n",
    "image_size = 32"
   ]
  },
  {
   "cell_type": "code",
   "execution_count": 8,
   "id": "c181fb7d-e1df-428b-a638-1eb63c419b14",
   "metadata": {},
   "outputs": [],
   "source": [
    "img_transform_source = Compose([\n",
    "    Resize(image_size),\n",
    "    ToTensor(),\n",
    "    Normalize(mean=(0.1307,), std=(0.3081,))\n",
    "])\n",
    "\n",
    "img_transform_target = Compose([\n",
    "    Resize(image_size),\n",
    "    ToTensor(),\n",
    "    Normalize(mean=(0.5, 0.5, 0.5), std=(0.5, 0.5, 0.5))\n",
    "])"
   ]
  },
  {
   "cell_type": "code",
   "execution_count": 9,
   "id": "f89eb663-41f3-4c56-8acc-890601a167dc",
   "metadata": {},
   "outputs": [
    {
     "data": {
      "text/plain": [
       "(Dataset MNIST\n",
       "     Number of datapoints: 60000\n",
       "     Root location: ./data\n",
       "     Split: Train\n",
       "     StandardTransform\n",
       " Transform: Compose(\n",
       "                Resize(size=32, interpolation=bilinear, max_size=None, antialias=None)\n",
       "                ToTensor()\n",
       "                Normalize(mean=(0.1307,), std=(0.3081,))\n",
       "            ),\n",
       " Dataset MNIST\n",
       "     Number of datapoints: 10000\n",
       "     Root location: ./data\n",
       "     Split: Test\n",
       "     StandardTransform\n",
       " Transform: Compose(\n",
       "                Resize(size=32, interpolation=bilinear, max_size=None, antialias=None)\n",
       "                ToTensor()\n",
       "                Normalize(mean=(0.1307,), std=(0.3081,))\n",
       "            ))"
      ]
     },
     "execution_count": 9,
     "metadata": {},
     "output_type": "execute_result"
    }
   ],
   "source": [
    "src_train_dataset = MNIST('./data', download=False, transform=img_transform_source)\n",
    "src_test_dataset = MNIST('./data', download=False, train=False, transform=img_transform_source)\n",
    "\n",
    "src_train_dataset, src_test_dataset"
   ]
  },
  {
   "cell_type": "code",
   "execution_count": 10,
   "id": "c4e41937-244a-4552-b5cc-069d71aa91fe",
   "metadata": {},
   "outputs": [
    {
     "name": "stdout",
     "output_type": "stream",
     "text": [
      "./data/MNIST-M\\MNISTM\\processed\\mnist_m_train.pt\n",
      "./data/MNIST-M\\MNISTM\\processed\\mnist_m_test.pt\n"
     ]
    },
    {
     "data": {
      "text/plain": [
       "(Dataset MNISTM\n",
       "     Number of datapoints: 60000\n",
       "     Root location: ./data/MNIST-M\n",
       "     Split: Train\n",
       "     StandardTransform\n",
       " Transform: Compose(\n",
       "                Resize(size=32, interpolation=bilinear, max_size=None, antialias=None)\n",
       "                ToTensor()\n",
       "                Normalize(mean=(0.5, 0.5, 0.5), std=(0.5, 0.5, 0.5))\n",
       "            ),\n",
       " Dataset MNISTM\n",
       "     Number of datapoints: 10000\n",
       "     Root location: ./data/MNIST-M\n",
       "     Split: Test\n",
       "     StandardTransform\n",
       " Transform: Compose(\n",
       "                Resize(size=32, interpolation=bilinear, max_size=None, antialias=None)\n",
       "                ToTensor()\n",
       "                Normalize(mean=(0.5, 0.5, 0.5), std=(0.5, 0.5, 0.5))\n",
       "            ))"
      ]
     },
     "execution_count": 10,
     "metadata": {},
     "output_type": "execute_result"
    }
   ],
   "source": [
    "tgt_train_dataset = MNISTM('./data/MNIST-M', download=False, transform=img_transform_target)\n",
    "tgt_test_dataset = MNISTM('./data/MNIST-M', download=False, train=False, transform=img_transform_target)\n",
    "\n",
    "tgt_train_dataset, tgt_test_dataset"
   ]
  },
  {
   "cell_type": "code",
   "execution_count": 11,
   "id": "b1c8d695-ea32-44ce-a857-ba9a087348ec",
   "metadata": {},
   "outputs": [],
   "source": [
    "src_train_loader = DataLoader(\n",
    "    dataset=src_train_dataset,\n",
    "    batch_size=batch_size,\n",
    "    shuffle=True\n",
    ")\n",
    "src_test_loader = DataLoader(\n",
    "    dataset=src_test_dataset,\n",
    "    batch_size=batch_size,\n",
    "    shuffle=False\n",
    ")\n",
    "tgt_train_loader = DataLoader(\n",
    "    dataset=tgt_train_dataset,\n",
    "    batch_size=batch_size,\n",
    "    shuffle=True\n",
    ")\n",
    "tgt_test_loader = DataLoader(\n",
    "    dataset=tgt_test_dataset,\n",
    "    batch_size=batch_size,\n",
    "    shuffle=False\n",
    ")"
   ]
  },
  {
   "cell_type": "markdown",
   "id": "fe2b1d74-49a9-4d99-8eef-fcea03cf3403",
   "metadata": {},
   "source": [
    "# Model"
   ]
  },
  {
   "cell_type": "code",
   "execution_count": 12,
   "id": "a393dae0-948d-46b0-a3a8-585003cbe694",
   "metadata": {},
   "outputs": [],
   "source": [
    "class ReverseLayerF(Function):\n",
    "    @staticmethod\n",
    "    def forward(ctx, x, alpha):\n",
    "        ctx.alpha = alpha\n",
    "\n",
    "        return x.view_as(x)\n",
    "\n",
    "    @staticmethod\n",
    "    def backward(ctx, grad_output):\n",
    "        output = grad_output.neg() * ctx.alpha\n",
    "\n",
    "        return output, None"
   ]
  },
  {
   "cell_type": "code",
   "execution_count": 32,
   "id": "1a38b234-fa2b-4894-9fc5-99fee2585e9f",
   "metadata": {},
   "outputs": [],
   "source": [
    "class DANN(nn.Module):    \n",
    "\n",
    "    def __init__(self, c_in, h_in, w_in, output_size):\n",
    "        super(DANN, self).__init__()\n",
    "        \n",
    "        self.in_c = c_in\n",
    "        self.feature = CNN(c_in)\n",
    "        \n",
    "        c_out, h_out, w_out = calculate_model_output_size(c_in, h_in, w_in, self.feature)\n",
    "        input_size = c_out * h_out * w_out\n",
    "        \n",
    "        self.class_classifier = Classifier(input_size, output_size)\n",
    "\n",
    "        self.domain_classifier = nn.Sequential()\n",
    "        self.domain_classifier.add_module('d_fc1', nn.Linear(input_size, 100))\n",
    "        self.domain_classifier.add_module('d_bn1', nn.BatchNorm1d(100))\n",
    "        self.domain_classifier.add_module('d_relu1', nn.ReLU(True))\n",
    "        self.domain_classifier.add_module('d_fc2', nn.Linear(100, 2))\n",
    "        self.domain_classifier.add_module('d_softmax', nn.LogSoftmax(dim=1))\n",
    "\n",
    "    def forward(self, input_data, alpha=0):\n",
    "        b, _, w, h = input_data.data.shape\n",
    "        input_data = input_data.expand(b, self.in_c, w, h)\n",
    "        \n",
    "        feature = self.feature(input_data)\n",
    "        feature = feature.view(b, -1)\n",
    "        \n",
    "        reverse_feature = ReverseLayerF.apply(feature, alpha)\n",
    "        \n",
    "        class_output = self.class_classifier(feature)\n",
    "        domain_output = self.domain_classifier(reverse_feature)\n",
    "\n",
    "        return class_output, domain_output"
   ]
  },
  {
   "cell_type": "markdown",
   "id": "a6607207-7e4a-4683-9bd3-6b98cd42cd2f",
   "metadata": {},
   "source": [
    "# Training"
   ]
  },
  {
   "cell_type": "code",
   "execution_count": 33,
   "id": "8783f28b-8c7c-46eb-8c18-f1d278065519",
   "metadata": {},
   "outputs": [],
   "source": [
    "def test(dataloader, model, device):\n",
    "    model.eval()\n",
    "\n",
    "    n_total = 0\n",
    "    n_correct = 0\n",
    "\n",
    "    for batch in dataloader:\n",
    "        t_img, t_label = batch\n",
    "\n",
    "        batch_size = len(t_label)\n",
    "\n",
    "        t_img = t_img.float().to(device)\n",
    "        t_label = t_label.long().to(device)\n",
    "\n",
    "        class_output, _ = model(t_img)\n",
    "        pred = class_output.data.max(1, keepdim=True)[1]\n",
    "        \n",
    "        n_correct += pred.eq(t_label.data.view_as(pred)).cpu().sum()\n",
    "        n_total += batch_size\n",
    "\n",
    "    accu = n_correct.data.numpy() * 100.0 / n_total\n",
    "\n",
    "    return accu"
   ]
  },
  {
   "cell_type": "code",
   "execution_count": 34,
   "id": "940873a7-9282-436a-b991-268a10d23be3",
   "metadata": {},
   "outputs": [],
   "source": [
    "def train(model, optimizer, loss_class, loss_domain, \n",
    "          dataloader_source_train, dataloader_target_train, \n",
    "          dataloader_source_test, dataloader_target_test, \n",
    "          n_epoch, device='cpu', mode='unsupervised', semi=0,\n",
    "          threshold=20, max_steps=10):\n",
    "    assert mode in ['unsupervised', 'supervised', 'semi-supervised']\n",
    "    \n",
    "    len_dataloader = min(len(dataloader_source_train), len(dataloader_target_train))\n",
    "    steps = 0\n",
    "    best_tgt_acc = -1\n",
    "\n",
    "    src_c_losses = []\n",
    "    tgt_c_losses = []\n",
    "    src_d_losses = []\n",
    "    tgt_d_losses = []\n",
    "    src_c_accs = []\n",
    "    tgt_c_accs = []\n",
    "    total_losses = []\n",
    "\n",
    "    for epoch in range(1, n_epoch+1):\n",
    "        sup = mode == 'supervised' or (mode == 'semi-supervised' and random.uniform(0,1) >= semi)\n",
    "        model.train()\n",
    "\n",
    "        data_source_iter = iter(dataloader_source_train)\n",
    "        data_target_iter = iter(dataloader_target_train)\n",
    "\n",
    "        for i in tqdm(range(len_dataloader)):\n",
    "            p = float(i + epoch * len_dataloader) / n_epoch / len_dataloader\n",
    "            alpha = 2. / (1. + np.exp(-10 * p)) - 1\n",
    "\n",
    "            # training model using source data\n",
    "            data_source = next(data_source_iter)\n",
    "            s_img, s_label = data_source\n",
    "\n",
    "            model.zero_grad()\n",
    "            batch_size = len(s_label)\n",
    "            \n",
    "            s_img = s_img.float().to(device)\n",
    "            s_label = s_label.long().to(device)\n",
    "            domain_label = torch.zeros(batch_size, dtype=torch.long).to(device)\n",
    "\n",
    "            class_output, domain_output = model(s_img, alpha)\n",
    "            \n",
    "            err_s_label = loss_class(class_output, s_label)\n",
    "            err_s_domain = loss_domain(domain_output, domain_label)\n",
    "\n",
    "            # training model using target data\n",
    "            data_target = next(data_target_iter)\n",
    "            t_img, t_label = data_target\n",
    "\n",
    "            batch_size = len(t_img)\n",
    "            \n",
    "            if sup: \n",
    "                t_label = t_label.long().to(device)\n",
    "            else:\n",
    "                del t_label\n",
    "            \n",
    "            t_img = t_img.float().to(device)\n",
    "            domain_label = torch.ones(batch_size, dtype=torch.long).to(device)\n",
    "\n",
    "            class_output, domain_output = model(t_img, alpha)\n",
    "            \n",
    "            err_t_domain = loss_domain(domain_output, domain_label)\n",
    "            err_t_label = None\n",
    "            \n",
    "            err = err_t_domain + err_s_domain + err_s_label\n",
    "            if sup:\n",
    "                err_t_label = loss_class(class_output, t_label)\n",
    "                err += err_t_label\n",
    "            \n",
    "            err.backward()\n",
    "            optimizer.step()\n",
    "\n",
    "            if i % 50 == 0:\n",
    "                src_acc = test(dataloader_source_test, model, device)\n",
    "                tgt_acc = test(dataloader_target_test, model, device)\n",
    "\n",
    "                src_c_losses.append(err_s_label.item())\n",
    "                src_d_losses.append(err_s_domain.item())\n",
    "                tgt_d_losses.append(err_t_domain.item())\n",
    "                src_c_accs.append(src_acc)\n",
    "                tgt_c_accs.append(tgt_acc)\n",
    "                total_losses.append(err.item())\n",
    "\n",
    "                msg = f'\\nepoch: {epoch}, [iter: {i} / all {len_dataloader}]'\n",
    "                msg += f'\\nerr_s_label: {err_s_label.item():10.4f}'\n",
    "                msg += f'\\nerr_s_domain: {err_s_domain.item():10.4f}'\n",
    "                if sup:\n",
    "                    msg += f'\\nerr_t_label: {err_t_label.item():10.4f}'\n",
    "                    tgt_c_losses.append(err_t_label.item())\n",
    "                else:\n",
    "                    tgt_c_losses.append(0)\n",
    "\n",
    "                msg += f'\\nerr_t_domain: {err_t_domain.item():10.4f}'\n",
    "\n",
    "                msg += f'\\ntotal err: {err.item():10.4f}'\n",
    "\n",
    "                msg += f'\\nSource test accuracy: {src_acc:3.2f}%'\n",
    "                msg += f'\\nTarget test accuracy: {tgt_acc:3.2f}%'\n",
    "                \n",
    "                print(msg)\n",
    "\n",
    "                if tgt_acc > best_tgt_acc:\n",
    "                    best_tgt_acc = tgt_acc\n",
    "                    steps = 0\n",
    "                else:\n",
    "                    steps += 1\n",
    "\n",
    "        if epoch > threshold and steps >= max_steps:\n",
    "            break\n",
    "\n",
    "    return src_c_losses, tgt_c_losses, src_d_losses, tgt_d_losses, src_c_accs, tgt_c_accs, total_losses"
   ]
  },
  {
   "cell_type": "code",
   "execution_count": 35,
   "id": "96d9d5a8-d76d-4c90-82cf-ecd9eb90cd94",
   "metadata": {},
   "outputs": [],
   "source": [
    "lr = 1e-3\n",
    "n_epoch = 1"
   ]
  },
  {
   "cell_type": "code",
   "execution_count": 36,
   "id": "95366a83-302a-45b7-8ad2-38242bae6c1f",
   "metadata": {},
   "outputs": [
    {
     "name": "stdout",
     "output_type": "stream",
     "text": [
      "DANN(\n",
      "  (feature): CNN(\n",
      "    (feature): Sequential(\n",
      "      (f_conv1): Conv2d(3, 64, kernel_size=(5, 5), stride=(1, 1))\n",
      "      (f_bn1): BatchNorm2d(64, eps=1e-05, momentum=0.1, affine=True, track_running_stats=True)\n",
      "      (f_pool1): MaxPool2d(kernel_size=2, stride=2, padding=0, dilation=1, ceil_mode=False)\n",
      "      (f_relu1): ReLU(inplace=True)\n",
      "      (f_conv2): Conv2d(64, 50, kernel_size=(5, 5), stride=(1, 1))\n",
      "      (f_bn2): BatchNorm2d(50, eps=1e-05, momentum=0.1, affine=True, track_running_stats=True)\n",
      "      (f_drop1): Dropout2d(p=0.5, inplace=False)\n",
      "      (f_pool2): MaxPool2d(kernel_size=2, stride=2, padding=0, dilation=1, ceil_mode=False)\n",
      "      (f_relu2): ReLU(inplace=True)\n",
      "    )\n",
      "  )\n",
      "  (class_classifier): Classifier(\n",
      "    (class_classifier): Sequential(\n",
      "      (c_fc1): Linear(in_features=1250, out_features=100, bias=True)\n",
      "      (c_bn1): BatchNorm1d(100, eps=1e-05, momentum=0.1, affine=True, track_running_stats=True)\n",
      "      (c_relu1): ReLU(inplace=True)\n",
      "      (c_drop1): Dropout2d(p=0.5, inplace=False)\n",
      "      (c_fc2): Linear(in_features=100, out_features=100, bias=True)\n",
      "      (c_bn2): BatchNorm1d(100, eps=1e-05, momentum=0.1, affine=True, track_running_stats=True)\n",
      "      (c_relu2): ReLU(inplace=True)\n",
      "      (c_fc3): Linear(in_features=100, out_features=10, bias=True)\n",
      "      (c_softmax): LogSoftmax(dim=None)\n",
      "    )\n",
      "  )\n",
      "  (domain_classifier): Sequential(\n",
      "    (d_fc1): Linear(in_features=1250, out_features=100, bias=True)\n",
      "    (d_bn1): BatchNorm1d(100, eps=1e-05, momentum=0.1, affine=True, track_running_stats=True)\n",
      "    (d_relu1): ReLU(inplace=True)\n",
      "    (d_fc2): Linear(in_features=100, out_features=2, bias=True)\n",
      "    (d_softmax): LogSoftmax(dim=1)\n",
      "  )\n",
      ")\n"
     ]
    }
   ],
   "source": [
    "net = DANN(3, 32, 32, 10)\n",
    "net.to(device)\n",
    "\n",
    "print(net)"
   ]
  },
  {
   "cell_type": "code",
   "execution_count": 37,
   "id": "b651a252-5633-4dbb-8edb-a7a57c589b8a",
   "metadata": {},
   "outputs": [],
   "source": [
    "optimizer = optim.Adam(net.parameters(), lr=lr)\n",
    "\n",
    "loss_class = torch.nn.NLLLoss()\n",
    "loss_domain = torch.nn.NLLLoss()"
   ]
  },
  {
   "cell_type": "code",
   "execution_count": 38,
   "id": "3c2ceaaf-729a-4250-89a7-2fa81aed22c0",
   "metadata": {},
   "outputs": [
    {
     "name": "stderr",
     "output_type": "stream",
     "text": [
      "  0%|▏                                                                               | 1/469 [00:15<1:58:05, 15.14s/it]"
     ]
    },
    {
     "name": "stdout",
     "output_type": "stream",
     "text": [
      "\n",
      "epoch: 1, [iter: 0 / all 469]\n",
      "err_s_label:     2.3768\n",
      "err_s_domain:     0.5497\n",
      "err_t_domain:     0.9172\n",
      "total err:     3.8437\n",
      "Source test accuracy: 9.32%\n",
      "Target test accuracy: 8.92%\n"
     ]
    },
    {
     "name": "stderr",
     "output_type": "stream",
     "text": [
      " 11%|████████▊                                                                        | 51/469 [00:45<31:01,  4.45s/it]"
     ]
    },
    {
     "name": "stdout",
     "output_type": "stream",
     "text": [
      "\n",
      "epoch: 1, [iter: 50 / all 469]\n",
      "err_s_label:     0.7235\n",
      "err_s_domain:     0.2938\n",
      "err_t_domain:     0.3901\n",
      "total err:     1.4075\n",
      "Source test accuracy: 85.56%\n",
      "Target test accuracy: 18.44%\n"
     ]
    },
    {
     "name": "stderr",
     "output_type": "stream",
     "text": [
      " 22%|█████████████████▏                                                              | 101/469 [01:14<26:57,  4.39s/it]"
     ]
    },
    {
     "name": "stdout",
     "output_type": "stream",
     "text": [
      "\n",
      "epoch: 1, [iter: 100 / all 469]\n",
      "err_s_label:     0.5262\n",
      "err_s_domain:     0.2366\n",
      "err_t_domain:     0.6736\n",
      "total err:     1.4364\n",
      "Source test accuracy: 84.66%\n",
      "Target test accuracy: 36.36%\n"
     ]
    },
    {
     "name": "stderr",
     "output_type": "stream",
     "text": [
      " 32%|█████████████████████████▊                                                      | 151/469 [01:42<23:25,  4.42s/it]"
     ]
    },
    {
     "name": "stdout",
     "output_type": "stream",
     "text": [
      "\n",
      "epoch: 1, [iter: 150 / all 469]\n",
      "err_s_label:     0.5563\n",
      "err_s_domain:     0.1326\n",
      "err_t_domain:     0.0252\n",
      "total err:     0.7141\n",
      "Source test accuracy: 84.70%\n",
      "Target test accuracy: 38.93%\n"
     ]
    },
    {
     "name": "stderr",
     "output_type": "stream",
     "text": [
      " 43%|██████████████████████████████████▎                                             | 201/469 [02:11<19:27,  4.36s/it]"
     ]
    },
    {
     "name": "stdout",
     "output_type": "stream",
     "text": [
      "\n",
      "epoch: 1, [iter: 200 / all 469]\n",
      "err_s_label:     0.2076\n",
      "err_s_domain:     0.0048\n",
      "err_t_domain:     0.0407\n",
      "total err:     0.2531\n",
      "Source test accuracy: 91.80%\n",
      "Target test accuracy: 38.70%\n"
     ]
    },
    {
     "name": "stderr",
     "output_type": "stream",
     "text": [
      " 54%|██████████████████████████████████████████▊                                     | 251/469 [02:40<15:47,  4.35s/it]"
     ]
    },
    {
     "name": "stdout",
     "output_type": "stream",
     "text": [
      "\n",
      "epoch: 1, [iter: 250 / all 469]\n",
      "err_s_label:     0.2234\n",
      "err_s_domain:     0.0165\n",
      "err_t_domain:     0.0406\n",
      "total err:     0.2805\n",
      "Source test accuracy: 93.67%\n",
      "Target test accuracy: 38.98%\n"
     ]
    },
    {
     "name": "stderr",
     "output_type": "stream",
     "text": [
      " 64%|███████████████████████████████████████████████████▎                            | 301/469 [03:09<12:21,  4.41s/it]"
     ]
    },
    {
     "name": "stdout",
     "output_type": "stream",
     "text": [
      "\n",
      "epoch: 1, [iter: 300 / all 469]\n",
      "err_s_label:     0.1845\n",
      "err_s_domain:     0.0119\n",
      "err_t_domain:     0.1447\n",
      "total err:     0.3412\n",
      "Source test accuracy: 94.71%\n",
      "Target test accuracy: 41.17%\n"
     ]
    },
    {
     "name": "stderr",
     "output_type": "stream",
     "text": [
      " 75%|███████████████████████████████████████████████████████████▊                    | 351/469 [03:38<08:36,  4.38s/it]"
     ]
    },
    {
     "name": "stdout",
     "output_type": "stream",
     "text": [
      "\n",
      "epoch: 1, [iter: 350 / all 469]\n",
      "err_s_label:     0.5842\n",
      "err_s_domain:     0.2968\n",
      "err_t_domain:     0.6236\n",
      "total err:     1.5046\n",
      "Source test accuracy: 85.13%\n",
      "Target test accuracy: 34.33%\n"
     ]
    },
    {
     "name": "stderr",
     "output_type": "stream",
     "text": [
      " 86%|████████████████████████████████████████████████████████████████████▍           | 401/469 [04:09<05:12,  4.59s/it]"
     ]
    },
    {
     "name": "stdout",
     "output_type": "stream",
     "text": [
      "\n",
      "epoch: 1, [iter: 400 / all 469]\n",
      "err_s_label:     0.1670\n",
      "err_s_domain:     0.1513\n",
      "err_t_domain:     0.1353\n",
      "total err:     0.4536\n",
      "Source test accuracy: 93.06%\n",
      "Target test accuracy: 40.07%\n"
     ]
    },
    {
     "name": "stderr",
     "output_type": "stream",
     "text": [
      " 96%|████████████████████████████████████████████████████████████████████████████▉   | 451/469 [04:38<01:19,  4.39s/it]"
     ]
    },
    {
     "name": "stdout",
     "output_type": "stream",
     "text": [
      "\n",
      "epoch: 1, [iter: 450 / all 469]\n",
      "err_s_label:     0.1559\n",
      "err_s_domain:     0.0310\n",
      "err_t_domain:     0.0610\n",
      "total err:     0.2479\n",
      "Source test accuracy: 95.15%\n",
      "Target test accuracy: 39.54%\n"
     ]
    },
    {
     "name": "stderr",
     "output_type": "stream",
     "text": [
      "100%|████████████████████████████████████████████████████████████████████████████████| 469/469 [04:43<00:00,  1.65it/s]\n"
     ]
    }
   ],
   "source": [
    "result = train(net, optimizer, loss_class, loss_domain, src_train_loader, tgt_train_loader, src_test_loader, tgt_test_loader, n_epoch, device, mode='unsupervised')"
   ]
  },
  {
   "cell_type": "code",
   "execution_count": 39,
   "id": "dacc6826-7e63-44a0-816a-184d4c053e7a",
   "metadata": {},
   "outputs": [],
   "source": [
    "src_c_losses, tgt_c_losses, src_d_losses, tgt_d_losses, src_c_accs, tgt_c_accs, total_losses = result"
   ]
  },
  {
   "cell_type": "code",
   "execution_count": 40,
   "id": "01b51d75-d384-4a1a-b423-9557527d7314",
   "metadata": {},
   "outputs": [
    {
     "data": {
      "image/png": "[encoded data removed]",
      "text/plain": [
       "<Figure size 640x480 with 1 Axes>"
      ]
     },
     "metadata": {},
     "output_type": "display_data"
    }
   ],
   "source": [
    "plt.plot(src_c_losses, label='src_label')\n",
    "plt.plot(src_d_losses, label='src_domain')\n",
    "plt.plot(tgt_c_losses, label='tgt_label')\n",
    "plt.plot(tgt_d_losses, label='tgt_domain')\n",
    "plt.plot(total_losses, label='total')\n",
    "\n",
    "plt.legend()\n",
    "plt.show()"
   ]
  },
  {
   "cell_type": "code",
   "execution_count": 41,
   "id": "a13546d7-9d09-4565-9660-be1d41d630b0",
   "metadata": {},
   "outputs": [
    {
     "data": {
      "image/png": "[encoded data removed]",
      "text/plain": [
       "<Figure size 640x480 with 1 Axes>"
      ]
     },
     "metadata": {},
     "output_type": "display_data"
    }
   ],
   "source": [
    "plt.plot(src_c_accs, label='src_acc')\n",
    "plt.plot(tgt_c_accs, label='tgt_acc')\n",
    "\n",
    "plt.legend()\n",
    "plt.show()"
   ]
  },
  {
   "cell_type": "code",
   "execution_count": null,
   "id": "1e59b37e-e3a3-463e-8d4a-b7831271d6ee",
   "metadata": {},
   "outputs": [],
   "source": []
  },
  {
   "cell_type": "code",
   "execution_count": 25,
   "id": "afe87248-994d-49cc-874f-c6dab9ecd36a",
   "metadata": {},
   "outputs": [
    {
     "data": {
      "text/plain": [
       "torch.Size([128, 50, 5, 5])"
      ]
     },
     "execution_count": 25,
     "metadata": {},
     "output_type": "execute_result"
    }
   ],
   "source": []
  },
  {
   "cell_type": "code",
   "execution_count": null,
   "id": "03cf6623-1982-488d-b84b-ee3929aa1e21",
   "metadata": {},
   "outputs": [],
   "source": [
    "net.class_classifier"
   ]
  }
 ],
 "metadata": {
  "kernelspec": {
   "display_name": "Python [conda env:pt]",
   "language": "python",
   "name": "conda-env-pt-py"
  },
  "language_info": {
   "codemirror_mode": {
    "name": "ipython",
    "version": 3
   },
   "file_extension": ".py",
   "mimetype": "text/x-python",
   "name": "python",
   "nbconvert_exporter": "python",
   "pygments_lexer": "ipython3",
   "version": "3.9.13"
  }
 },
 "nbformat": 4,
 "nbformat_minor": 5
}
